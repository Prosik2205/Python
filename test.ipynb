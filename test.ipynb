{
 "cells": [
  {
   "cell_type": "code",
   "execution_count": 2,
   "metadata": {},
   "outputs": [
    {
     "name": "stdout",
     "output_type": "stream",
     "text": [
      "Hello, world!\n",
      "Hello again, world!\n",
      "Commit ID: 0\n",
      "File: file1.txt\n",
      "Content: Hello, world!\n",
      "\n",
      "Commit ID: 1\n",
      "File: file2.txt\n",
      "Content: Hello again, world!\n",
      "\n"
     ]
    }
   ],
   "source": [
    "import os\n",
    "import time\n",
    "\n",
    "class File:\n",
    "    def __init__(self, name):\n",
    "        self.name = name\n",
    "        self.content = ''\n",
    "\n",
    "    def write(self, content):\n",
    "        self.content = content\n",
    "\n",
    "    def read(self):\n",
    "        return self.content\n",
    "\n",
    "class Commit:\n",
    "    def __init__(self, id, file, content):\n",
    "        self.id = id\n",
    "        self.file = file\n",
    "        self.content = content\n",
    "\n",
    "class VersionControlSystem:\n",
    "    def __init__(self):\n",
    "        self.files = {}\n",
    "        self.commits = []\n",
    "\n",
    "    def create_file(self, name):\n",
    "        file = File(name)\n",
    "        self.files[name] = file\n",
    "\n",
    "    def write_file(self, name, content):\n",
    "        file = self.files.get(name)\n",
    "        if file:\n",
    "            file.write(content)\n",
    "            commit = Commit(len(self.commits), file, content)\n",
    "            self.commits.append(commit)\n",
    "\n",
    "    def read_file(self, name):\n",
    "        file = self.files.get(name)\n",
    "        if file:\n",
    "            return file.read()\n",
    "\n",
    "    def show_history(self):\n",
    "        for commit in self.commits:\n",
    "            print(f\"Commit ID: {commit.id}\")\n",
    "            print(f\"File: {commit.file.name}\")\n",
    "            print(f\"Content: {commit.content}\")\n",
    "            print(\"\")\n",
    "\n",
    "# Using VersionControlSystem class\n",
    "vcs = VersionControlSystem()\n",
    "\n",
    "# Creating and writing to files\n",
    "vcs.create_file('file1.txt')\n",
    "vcs.write_file('file1.txt', 'Hello, world!')\n",
    "\n",
    "vcs.create_file('file2.txt')\n",
    "vcs.write_file('file2.txt', 'Hello again, world!')\n",
    "\n",
    "# Reading files\n",
    "print(vcs.read_file('file1.txt')) # Output: Hello, world!\n",
    "print(vcs.read_file('file2.txt')) # Output: Hello again, world!\n",
    "\n",
    "# Showing history\n",
    "vcs.show_history()"
   ]
  }
 ],
 "metadata": {
  "kernelspec": {
   "display_name": "Python 3",
   "language": "python",
   "name": "python3"
  },
  "language_info": {
   "codemirror_mode": {
    "name": "ipython",
    "version": 3
   },
   "file_extension": ".py",
   "mimetype": "text/x-python",
   "name": "python",
   "nbconvert_exporter": "python",
   "pygments_lexer": "ipython3",
   "version": "3.12.0"
  }
 },
 "nbformat": 4,
 "nbformat_minor": 2
}
