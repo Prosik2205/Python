{
 "cells": [
  {
   "cell_type": "code",
   "execution_count": 1,
   "metadata": {},
   "outputs": [
    {
     "name": "stdout",
     "output_type": "stream",
     "text": [
      "[(1066, 'The Battle of Hastings, which led to the Norman conquest of England.'), (1776, 'The United States Declaration of Independence was adopted.'), (1789, 'The storming of the Bastille in Paris, a key event at the beginning of the French Revolution.'), (1939, 'The United Kingdom and France declared war on Germany, marking the start of World War II.'), (1969, 'Apollo 11 astronauts Neil Armstrong and Buzz Aldrin became the first humans to walk on the Moon.'), (1989, 'The fall of the Berlin Wall, a pivotal moment in the end of the Cold War and the reunification of Germany.'), (2001, 'The terrorist attacks on the World Trade Center and the Pentagon in the United States.')]\n"
     ]
    }
   ],
   "source": [
    "events = [\n",
    "    ( 1066, \"The Battle of Hastings, which led to the Norman conquest of England.\"),\n",
    "    ( 1776, \"The United States Declaration of Independence was adopted.\"),\n",
    "    ( 1789, \"The storming of the Bastille in Paris, a key event at the beginning of the French Revolution.\"),\n",
    "    ( 1939, \"The United Kingdom and France declared war on Germany, marking the start of World War II.\"),\n",
    "    ( 1969, \"Apollo 11 astronauts Neil Armstrong and Buzz Aldrin became the first humans to walk on the Moon.\"),\n",
    "    ( 1989, \"The fall of the Berlin Wall, a pivotal moment in the end of the Cold War and the reunification of Germany.\"),\n",
    "    ( 2001, \"The terrorist attacks on the World Trade Center and the Pentagon in the United States.\")\n",
    "    ]\n",
    "visit_years = [1776,1939,1969,1989,2001]\n",
    "\n",
    "dictionary_years = {}\n",
    "\n",
    "def addEvent(year, desription):\n",
    "    dictionary_years[year]=desription\n",
    "\n",
    "def show_event():\n",
    "    for events in dictionary_years:\n",
    "        print (events)    \n",
    "\n",
    "answer = input(\"1.Add event\\n2.Show events\")\n",
    "match answer:\n",
    "    case \"1\":\n",
    "        year \n",
    "    case \"2\":    "
   ]
  }
 ],
 "metadata": {
  "kernelspec": {
   "display_name": "Python 3",
   "language": "python",
   "name": "python3"
  },
  "language_info": {
   "codemirror_mode": {
    "name": "ipython",
    "version": 3
   },
   "file_extension": ".py",
   "mimetype": "text/x-python",
   "name": "python",
   "nbconvert_exporter": "python",
   "pygments_lexer": "ipython3",
   "version": "3.11.5"
  }
 },
 "nbformat": 4,
 "nbformat_minor": 2
}
