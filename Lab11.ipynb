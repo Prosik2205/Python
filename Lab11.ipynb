{
 "cells": [
  {
   "cell_type": "code",
   "execution_count": 1,
   "metadata": {},
   "outputs": [],
   "source": [
    "from selenium import webdriver\n",
    "from selenium.webdriver.common.by import By\n",
    "from selenium.common.exceptions import StaleElementReferenceException\n",
    "import pandas as pd\n",
    "\n",
    "driver = webdriver.Chrome()\n",
    "\n",
    "\n",
    "driver.get('https://www.pravda.com.ua/archives/')\n",
    "driver.maximize_window()\n",
    "\n",
    "format_link = lambda day, month, year: f\"https://www.pravda.com.ua/archives/date_{day}{month}{year}/\"\n",
    "\n",
    "df = pd.DataFrame(columns=['Date', 'Text'])\n",
    "\n",
    "def update_df(text, date):\n",
    "    global df\n",
    "    df = pd.concat([df, pd.DataFrame({'Date': date, 'Text': [text]})], ignore_index=True)\n",
    "    df.to_csv('123.csv', index=False)  \n",
    "\n",
    "def process_page_news(link, date):\n",
    "        article = []\n",
    "        driver.get(link)\n",
    "\n",
    "        articles = driver.find_elements(By.CSS_SELECTOR, 'div.article.article_list a[href]')\n",
    "\n",
    "        for article in articles:\n",
    "            try:\n",
    "                article_link = article.get_attribute('href')\n",
    "                if 'epravda.com.ua' in article_link or 'eurointegration.com.ua' in article_link or 'pravda.com.ua' in article_link:\n",
    "                    driver.get(article_link)\n",
    "                    main_div = driver.find_elements(By.CSS_SELECTOR, 'div.post__text p')\n",
    "                    text = [p.text for p in main_div]\n",
    "                    update_df(text, date)\n",
    "                elif 'life.pravda.com.ua' in article_link:\n",
    "                    driver.get(article_link)\n",
    "                    main_div = driver.find_elements(By.CSS_SELECTOR, 'article.article p')\n",
    "                    text = [p.text for p in main_div]\n",
    "                    update_df(text, date)\n",
    "\n",
    "                else:\n",
    "                    pass\n",
    "                driver.back()\n",
    "            except StaleElementReferenceException:\n",
    "                pass\n",
    "    \n",
    "for year in [2023]:\n",
    "    for month in [\"01\", \"02\", \"03\", \"04\", \"05\", \"06\", \"07\", \"08\", \"09\", \"10\", \"11\"]:\n",
    "        process_page_news(format_link(\"02\", month, year), f'02-{month}-{year}')\n",
    "\n",
    "\n",
    "\n",
    "driver.quit()\n",
    "\n"
   ]
  }
 ],
 "metadata": {
  "kernelspec": {
   "display_name": "Python 3",
   "language": "python",
   "name": "python3"
  },
  "language_info": {
   "codemirror_mode": {
    "name": "ipython",
    "version": 3
   },
   "file_extension": ".py",
   "mimetype": "text/x-python",
   "name": "python",
   "nbconvert_exporter": "python",
   "pygments_lexer": "ipython3",
   "version": "3.12.0"
  }
 },
 "nbformat": 4,
 "nbformat_minor": 2
}
