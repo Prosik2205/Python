{
 "cells": [
  {
   "cell_type": "code",
   "execution_count": 1,
   "metadata": {},
   "outputs": [
    {
     "name": "stdout",
     "output_type": "stream",
     "text": [
      "links to process []\n",
      "links to process []\n",
      "links to process []\n",
      "links to process ['https://www.eurointegration.com.ua/articles/2023/11/30/7174653/', 'https://www.pravda.com.ua/podcasts/podkast-klyati-pitannya/2023/11/30/7431106/', 'https://life.pravda.com.ua/society/2023/11/30/258017/', 'https://www.pravda.com.ua/articles/2023/11/30/7431058/', 'https://www.epravda.com.ua/publications/2023/11/30/707098/', 'https://www.eurointegration.com.ua/articles/2023/11/30/7174617/', 'https://www.eurointegration.com.ua/articles/2023/11/30/7174556/', 'https://life.pravda.com.ua/society/2023/11/30/257962/', 'https://www.epravda.com.ua/publications/2023/11/30/707161/', 'https://www.pravda.com.ua/articles/2023/11/30/7430966/']\n"
     ]
    },
    {
     "ename": "TypeError",
     "evalue": "process_page_news_page() missing 1 required positional argument: 'date'",
     "output_type": "error",
     "traceback": [
      "\u001b[1;31m---------------------------------------------------------------------------\u001b[0m",
      "\u001b[1;31mTypeError\u001b[0m                                 Traceback (most recent call last)",
      "\u001b[1;32mc:\\Users\\prosi\\Documents\\GitHub\\Python\\Lab11.ipynb Cell 1\u001b[0m line \u001b[0;36m4\n\u001b[0;32m     <a href='vscode-notebook-cell:/c%3A/Users/prosi/Documents/GitHub/Python/Lab11.ipynb#W0sZmlsZQ%3D%3D?line=38'>39</a>\u001b[0m     \u001b[39mfor\u001b[39;00m month \u001b[39min\u001b[39;00m [\u001b[39m1\u001b[39m, \u001b[39m2\u001b[39m, \u001b[39m3\u001b[39m, \u001b[39m4\u001b[39m, \u001b[39m5\u001b[39m, \u001b[39m6\u001b[39m]:\n\u001b[0;32m     <a href='vscode-notebook-cell:/c%3A/Users/prosi/Documents/GitHub/Python/Lab11.ipynb#W0sZmlsZQ%3D%3D?line=39'>40</a>\u001b[0m         driver\u001b[39m.\u001b[39mget(format_link(year, month, date))\n\u001b[1;32m---> <a href='vscode-notebook-cell:/c%3A/Users/prosi/Documents/GitHub/Python/Lab11.ipynb#W0sZmlsZQ%3D%3D?line=40'>41</a>\u001b[0m         process_page_news()\n\u001b[0;32m     <a href='vscode-notebook-cell:/c%3A/Users/prosi/Documents/GitHub/Python/Lab11.ipynb#W0sZmlsZQ%3D%3D?line=43'>44</a>\u001b[0m display(textes)\n\u001b[0;32m     <a href='vscode-notebook-cell:/c%3A/Users/prosi/Documents/GitHub/Python/Lab11.ipynb#W0sZmlsZQ%3D%3D?line=44'>45</a>\u001b[0m driver\u001b[39m.\u001b[39mclose()\n",
      "\u001b[1;32mc:\\Users\\prosi\\Documents\\GitHub\\Python\\Lab11.ipynb Cell 1\u001b[0m line \u001b[0;36m3\n\u001b[0;32m     <a href='vscode-notebook-cell:/c%3A/Users/prosi/Documents/GitHub/Python/Lab11.ipynb#W0sZmlsZQ%3D%3D?line=31'>32</a>\u001b[0m \u001b[39mfor\u001b[39;00m link \u001b[39min\u001b[39;00m links:\n\u001b[0;32m     <a href='vscode-notebook-cell:/c%3A/Users/prosi/Documents/GitHub/Python/Lab11.ipynb#W0sZmlsZQ%3D%3D?line=32'>33</a>\u001b[0m     href \u001b[39m=\u001b[39m link\u001b[39m.\u001b[39mget_attribute(\u001b[39m\"\u001b[39m\u001b[39mhref\u001b[39m\u001b[39m\"\u001b[39m)\n\u001b[1;32m---> <a href='vscode-notebook-cell:/c%3A/Users/prosi/Documents/GitHub/Python/Lab11.ipynb#W0sZmlsZQ%3D%3D?line=33'>34</a>\u001b[0m     text \u001b[39m=\u001b[39m process_page_news_page(href)\n\u001b[0;32m     <a href='vscode-notebook-cell:/c%3A/Users/prosi/Documents/GitHub/Python/Lab11.ipynb#W0sZmlsZQ%3D%3D?line=34'>35</a>\u001b[0m     textes\u001b[39m.\u001b[39mappend(text)\n",
      "\u001b[1;31mTypeError\u001b[0m: process_page_news_page() missing 1 required positional argument: 'date'"
     ]
    }
   ],
   "source": [
    "from selenium import webdriver\n",
    "from selenium.webdriver.common.by import By\n",
    "from selenium.common.exceptions import StaleElementReferenceException\n",
    "import pandas as pd\n",
    "from selenium.webdriver.chrome.service import Service\n",
    "\n",
    "driver = webdriver.Chrome()\n",
    "prod = []\n",
    "\n",
    "\n",
    "driver.get('https://www.pravda.com.ua/archives/')\n",
    "driver.maximize_window()\n",
    "\n",
    "format_link = lambda day, month, year: f\"https://www.pravda.com.ua/archives/date_{day}{month}{year}/\"\n",
    "\n",
    "df = pd.DataFrame(columns=['Date', 'Text'])\n",
    "\n",
    "def update_df(text, date):\n",
    "    global df\n",
    "    df = pd.concat([df, pd.DataFrame({'Date': date, 'Text': [text]})], ignore_index=True)\n",
    "    df.to_csv('123.csv', index=False)  \n",
    "\n",
    "def process_page_news(link, date):\n",
    "        article = []\n",
    "        driver.get(link)\n",
    "\n",
    "        articles = driver.find_elements(By.CSS_SELECTOR, 'div.article.article_list a[href]')\n",
    "\n",
    "        for article in articles:\n",
    "            try:\n",
    "                article_link = article.get_attribute('href')\n",
    "                if 'epravda.com.ua' in article_link or 'eurointegration.com.ua' in article_link or 'pravda.com.ua' in article_link:\n",
    "                    driver.get(article_link)\n",
    "                    main_div = driver.find_elements(By.CSS_SELECTOR, 'div.post__text p')\n",
    "                    text = [p.text for p in main_div]\n",
    "                    update_df(text, date)\n",
    "                    prod.append(text)\n",
    "                elif 'life.pravda.com.ua' in article_link:\n",
    "                    driver.get(article_link)\n",
    "                    main_div = driver.find_elements(By.CSS_SELECTOR, 'article.article p')\n",
    "                    text = [p.text for p in main_div]\n",
    "                    update_df(text, date)\n",
    "                    prod.append(text)\n",
    "\n",
    "                else:\n",
    "                    pass\n",
    "                driver.back()\n",
    "            except StaleElementReferenceException:\n",
    "                pass\n",
    "    \n",
    "for year in [2023]:\n",
    "    for month in [\"01\", \"02\", \"03\", \"04\", \"05\", \"06\", \"07\", \"08\", \"09\", \"10\", \"11\"]:\n",
    "        process_page_news(format_link(\"02\", month, year), f'02-{month}-{year}')\n",
    "\n",
    "\n",
    "input('wait')\n",
    "\n",
    "driver.quit()\n",
    "\n",
    "print (prod)"
   ]
  }
 ],
 "metadata": {
  "kernelspec": {
   "display_name": "Python 3",
   "language": "python",
   "name": "python3"
  },
  "language_info": {
   "codemirror_mode": {
    "name": "ipython",
    "version": 3
   },
   "file_extension": ".py",
   "mimetype": "text/x-python",
   "name": "python",
   "nbconvert_exporter": "python",
   "pygments_lexer": "ipython3",
   "version": "3.12.0"
  }
 },
 "nbformat": 4,
 "nbformat_minor": 2
}
