{
 "cells": [
  {
   "cell_type": "code",
   "execution_count": 1,
   "metadata": {},
   "outputs": [
    {
     "ename": "ModuleNotFoundError",
     "evalue": "No module named 'sgp4'",
     "output_type": "error",
     "traceback": [
      "\u001b[1;31m---------------------------------------------------------------------------\u001b[0m",
      "\u001b[1;31mModuleNotFoundError\u001b[0m                       Traceback (most recent call last)",
      "Cell \u001b[1;32mIn[1], line 3\u001b[0m\n\u001b[0;32m      1\u001b[0m \u001b[38;5;66;03m#main code\u001b[39;00m\n\u001b[0;32m      2\u001b[0m \u001b[38;5;28;01mimport\u001b[39;00m \u001b[38;5;21;01mpandas\u001b[39;00m \u001b[38;5;28;01mas\u001b[39;00m \u001b[38;5;21;01mpd\u001b[39;00m\n\u001b[1;32m----> 3\u001b[0m \u001b[38;5;28;01mfrom\u001b[39;00m \u001b[38;5;21;01msgp4\u001b[39;00m\u001b[38;5;21;01m.\u001b[39;00m\u001b[38;5;21;01mapi\u001b[39;00m \u001b[38;5;28;01mimport\u001b[39;00m Satrec\n\u001b[0;32m      4\u001b[0m \u001b[38;5;28;01mfrom\u001b[39;00m \u001b[38;5;21;01msgp4\u001b[39;00m \u001b[38;5;28;01mimport\u001b[39;00m omm\n\u001b[0;32m      5\u001b[0m \u001b[38;5;28;01mimport\u001b[39;00m \u001b[38;5;21;01mnumpy\u001b[39;00m \u001b[38;5;28;01mas\u001b[39;00m \u001b[38;5;21;01mnp\u001b[39;00m\n",
      "\u001b[1;31mModuleNotFoundError\u001b[0m: No module named 'sgp4'"
     ]
    }
   ],
   "source": [
    "#main code\n",
    "import pandas as pd\n",
    "from sgp4.api import Satrec\n",
    "from sgp4 import omm\n",
    "import numpy as np\n",
    "import matplotlib.pyplot as plt\n",
    "%matplotlib notebook\n",
    "from mpl_toolkits.mplot3d import Axes3D\n",
    "from sklearn.cluster import DBSCAN\n",
    "import plotly.graph_objects as go\n",
    "\n",
    "data = pd.read_csv('Data/db.csv')\n",
    "\n",
    "\n",
    "\n",
    "\n",
    "with open('Data/db.csv') as f:\n",
    "        lines = omm.parse_csv(f)\n",
    "        fields = [field for field in lines]\n",
    "\n",
    "R = []\n",
    "\n",
    "for i in range(156):\n",
    "    field = fields[i]\n",
    "    sat = Satrec(\"2023-172B\")\n",
    "    satellite = omm.initialize(sat, field)\n",
    "    jd, fr = 2460326, 0.8473379629629629\n",
    "    e, r, v = sat.sgp4(jd, fr)\n",
    "    R.append(r)\n",
    "    \n",
    "\n",
    "\n",
    "\n",
    "\n",
    "data = np.array(R)\n",
    "data = data[~np.isnan(data).any(axis=1)]\n",
    "\n",
    "fig = go.Figure(data=[go.Scatter3d(x=data[:,0], y=data[:,1], z=data[:,2],\n",
    "                                   mode='markers')])\n",
    "fig.show()\n",
    "\n",
    "\n",
    "\n",
    "model = DBSCAN(eps=10000, min_samples=2)\n",
    "model.fit_predict(data)\n",
    "pred = model.fit_predict(data)\n",
    "\n",
    "fig = go.Figure(data=[go.Scatter3d(x=data[:,0], y=data[:,1], z=data[:,2],\n",
    "                                   mode='markers', marker={\"size\":12, \"color\":pred})])\n",
    "\n",
    "fig.show()\n",
    "\n",
    "print(\"number of cluster found: {}\".format(len(set(model.labels_))))\n",
    "print('cluster for each point: ', model.labels_)"
   ]
  }
 ],
 "metadata": {
  "kernelspec": {
   "display_name": "Python 3",
   "language": "python",
   "name": "python3"
  },
  "language_info": {
   "codemirror_mode": {
    "name": "ipython",
    "version": 3
   },
   "file_extension": ".py",
   "mimetype": "text/x-python",
   "name": "python",
   "nbconvert_exporter": "python",
   "pygments_lexer": "ipython3",
   "version": "3.12.0"
  }
 },
 "nbformat": 4,
 "nbformat_minor": 2
}
