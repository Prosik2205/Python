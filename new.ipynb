{
 "cells": [
  {
   "cell_type": "code",
   "execution_count": 1,
   "metadata": {},
   "outputs": [
    {
     "name": "stdout",
     "output_type": "stream",
     "text": [
      "The Elder Scrols:Ukraine\n"
     ]
    }
   ],
   "source": [
    "\n",
    "import time\n",
    "def delay_print(s):\n",
    "    for c in s:\n",
    "        print(c, end='')\n",
    "        time.sleep(0.01)\n",
    "    print('')\n",
    "print(\"The Elder Scrols:Ukraine\")\n"
   ]
  },
  {
   "cell_type": "code",
   "execution_count": 2,
   "metadata": {},
   "outputs": [
    {
     "name": "stdout",
     "output_type": "stream",
     "text": [
      "* Ви просинаєтесь в лісі біля впавшого дерева на якому сидить незнайомець\n",
      " Незнайомець: О, ти нарешті прокинувся, я тебе найшов з раною на голові, ти хоть щось про себе пам'ятає,як тебе звати?\n",
      "п\n",
      "Незнайомець:Добре п ти пам'ятаєш свою расу?\n",
      "1.Хохол\n",
      "2.Кацап\n",
      "Незнайомець:Я бачу ти своя людина,мене звати Степан радий познайомитись,ти пам'ятаєш що з тобою сталося?\n",
      "п:Нічого не пам'ятаю\n",
      "Степан:Нічого, я тебе відведу в селеще неподалік,може хтось поможе тобі\n"
     ]
    }
   ],
   "source": [
    "answers_array = []\n",
    "quest_index = 0\n",
    "\n",
    "delay_print(\"* Ви просинаєтесь в лісі біля впавшого дерева на якому сидить незнайомець\\n Незнайомець: О, ти нарешті прокинувся, я тебе найшов з раною на голові, ти хоть щось про себе пам'ятає,як тебе звати?\")\n",
    "name=input(\"Введіть своє ім'я\")     \n",
    "print(name)\n",
    "delay_print(\"Незнайомець:Добре \"+ name + \" ти пам'ятаєш свою расу?\")\n",
    "print(\"1.Хохол\\n2.Кацап\")\n",
    "answer = input(\"Введіть відповідь:\")\n",
    "answers_array.append(answer)\n",
    "match answer:\n",
    "   case \"1\": delay_print(\"Незнайомець:Я бачу ти своя людина,мене звати Степан радий познайомитись,ти пам'ятаєш що з тобою сталося?\\n\"+name+\":Нічого не пам'ятаю\\nСтепан:Нічого, я тебе відведу в селеще неподалік,може хтось поможе тобі\") \n",
    "  \n",
    "   case \"2\": delay_print(\"*Незнайомець мовчки і швидко дістає палку і лупить вас поміж очей, так що ви знову втратили свідомість*\")\n",
    "  \n"
   ]
  },
  {
   "cell_type": "code",
   "execution_count": 3,
   "metadata": {},
   "outputs": [
    {
     "name": "stdout",
     "output_type": "stream",
     "text": [
      "* По дорозі в селище ви бачите зграю вовків\n",
      " Степан:Не спіши, я пропоную їх просто обійти або чимось відволікти,що будемо робити?\n",
      "1.Обійти\n",
      "2.Відволікти\n"
     ]
    }
   ],
   "source": [
    "quest_index = 1\n",
    "previous_answer = answers_array[quest_index - 1]\n",
    "answer_case = previous_answer\n",
    "match previous_answer:\n",
    "    case\"1\": \n",
    "     delay_print(\"* По дорозі в селище ви бачите зграю вовків.\\n Степан:Не спіши, я пропоную їх просто обійти або чимось відволікти,що будемо робити?\"),\n",
    "     delay_print(\"1.Обійти\\n2.Відволікти\")\n",
    "     answer = input(\"Введіть відповідь: \")\n",
    "     answers_array.append(answer)  \n",
    "    case\"2\": \n",
    "     delay_print(\"* Ви приходити до тями в темному і сирому підвалу, єдине що там є це лапочка над головою, яка постійно блимає.Неочіковна відкриваються двері і туди заходить чоловік у формі і зі зброєю\")\n",
    "     delay_print(\"Охоронець: Що ж кацапику в тебе  вибір або по доброму або по поганому, вибирай:\\n\"+name+\":\")\n",
    "     delay_print(\"1.Я нічого не пам'ятаю,якщо ви поможете мені згадати я вам все розповім\\n2.Пішов *****\")\n",
    "     answer = input(\"Введіть відповідь: \")\n",
    "     answers_array.append(answer)  \n",
    "\n",
    "    \n",
    "    \n"
   ]
  },
  {
   "cell_type": "code",
   "execution_count": 4,
   "metadata": {},
   "outputs": [
    {
     "name": "stdout",
     "output_type": "stream",
     "text": [
      "*Почекавши пару хвилин ви бачите що вовки відійшли в сторону і ви тихо їх обходите і продовжуєте рух до селеще\n"
     ]
    }
   ],
   "source": [
    "quest_index = 2\n",
    "previous_answer = answers_array[quest_index - 1]\n",
    "match answer_case:\n",
    " case\"1\":\n",
    "     match previous_answer:\n",
    "           case\"1\":delay_print(\"*Почекавши пару хвилин ви бачите що вовки відійшли в сторону і ви тихо їх обходите і продовжуєте рух до селеще\")\n",
    "           case\"2\":\n",
    "            delay_print(\"*Степан дістає кусок сала і кидає його в кущі поруч з вовками. Вовки замітили що як летіло сало, частина з них побігла за ним, а решта замітила вас і вирішила напасти на вас\\n Степаен:Вони нас замітили що будемо робити?\"),\n",
    "            delay_print(\"1.Почати бігти\\n2.Розпочати бійку\")  \n",
    "            answer = input(\"Введіть відповідь: \")\n",
    "            answers_array.append(answer)    \n",
    " case\"2\":\n",
    "      match previous_answer:\n",
    "        case\"1\":delay_print(\"Одна біда з вами, ти на диво дуже добре по нашому розмовляєш, добре я допоможу тобі але якщо я взнаю що ти збрехав, то трясця тобі\")\n",
    "        case\"2\":delay_print(\"Куля в лоб так куля в лоб\")\n",
    "         \n",
    "\n",
    "\n"
   ]
  },
  {
   "cell_type": "code",
   "execution_count": 5,
   "metadata": {},
   "outputs": [
    {
     "ename": "IndexError",
     "evalue": "list index out of range",
     "output_type": "error",
     "traceback": [
      "\u001b[1;31m---------------------------------------------------------------------------\u001b[0m",
      "\u001b[1;31mIndexError\u001b[0m                                Traceback (most recent call last)",
      "\u001b[1;32mc:\\Users\\Prosi\\Documents\\GitHub\\Python\\new.ipynb Cell 5\u001b[0m line \u001b[0;36m2\n\u001b[0;32m      <a href='vscode-notebook-cell:/c%3A/Users/Prosi/Documents/GitHub/Python/new.ipynb#W4sZmlsZQ%3D%3D?line=0'>1</a>\u001b[0m quest_index \u001b[39m=\u001b[39m \u001b[39m3\u001b[39m\n\u001b[1;32m----> <a href='vscode-notebook-cell:/c%3A/Users/Prosi/Documents/GitHub/Python/new.ipynb#W4sZmlsZQ%3D%3D?line=1'>2</a>\u001b[0m previous_answer \u001b[39m=\u001b[39m answers_array[quest_index \u001b[39m-\u001b[39;49m \u001b[39m1\u001b[39;49m]\n\u001b[0;32m      <a href='vscode-notebook-cell:/c%3A/Users/Prosi/Documents/GitHub/Python/new.ipynb#W4sZmlsZQ%3D%3D?line=2'>3</a>\u001b[0m \u001b[39mmatch\u001b[39;00m answer_case:\n\u001b[0;32m      <a href='vscode-notebook-cell:/c%3A/Users/Prosi/Documents/GitHub/Python/new.ipynb#W4sZmlsZQ%3D%3D?line=3'>4</a>\u001b[0m     \u001b[39mcase\u001b[39;00m\u001b[39m\"\u001b[39m\u001b[39m1\u001b[39m\u001b[39m\"\u001b[39m:\n",
      "\u001b[1;31mIndexError\u001b[0m: list index out of range"
     ]
    }
   ],
   "source": [
    "quest_index = 3\n",
    "previous_answer = answers_array[quest_index - 1]\n",
    "match answer_case:\n",
    "    case\"1\":\n",
    "        match previous_answer:\n",
    "            case\"1\":delay_print(\"Ось нарешті ви прибули у селище\")\n",
    "            case\"2\":delay_print(\"Починається бійка\")\n",
    "    case\"2\":\n",
    "        match previous_answer:\n",
    "            case\"1\": delay_print(\"Підвал\")    \n",
    "\n",
    "\n"
   ]
  },
  {
   "cell_type": "code",
   "execution_count": null,
   "metadata": {},
   "outputs": [],
   "source": []
  }
 ],
 "metadata": {
  "kernelspec": {
   "display_name": "Python 3",
   "language": "python",
   "name": "python3"
  },
  "language_info": {
   "codemirror_mode": {
    "name": "ipython",
    "version": 3
   },
   "file_extension": ".py",
   "mimetype": "text/x-python",
   "name": "python",
   "nbconvert_exporter": "python",
   "pygments_lexer": "ipython3",
   "version": "3.11.5"
  },
  "orig_nbformat": 4
 },
 "nbformat": 4,
 "nbformat_minor": 2
}
