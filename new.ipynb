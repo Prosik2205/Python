{
 "cells": [
  {
   "cell_type": "code",
   "execution_count": 21,
   "metadata": {},
   "outputs": [
    {
     "name": "stdout",
     "output_type": "stream",
     "text": [
      "The Elder Scrols:Ukraine\n"
     ]
    }
   ],
   "source": [
    "answers_array = []\n",
    "import time\n",
    "def delay_print(s):\n",
    "    for c in s:\n",
    "        print(c, end='')\n",
    "        time.sleep(0.03)\n",
    "    print('')\n",
    "print(\"The Elder Scrols:Ukraine\")\n",
    "# sex=input(\"Введіть свою стать\")\n"
   ]
  },
  {
   "cell_type": "code",
   "execution_count": 22,
   "metadata": {},
   "outputs": [
    {
     "name": "stdout",
     "output_type": "stream",
     "text": [
      "*Ви просинаєтесь в лісі біля впавшого дерева на якому сидить незнайомець\n",
      " О, ти нарешті прокинувся, я тебе найшов з раною на голові, ти хоть щось про себе пам'ятає,як тебе звати?\n",
      "23\n",
      "Добре ,ранений, ти пам'ятаєш звідки ти?\n",
      "1.Я з України\n",
      "2.Я з Росії\n",
      "*Незнайомець мовчки і швидко дістає пістолет і робить скрізний отвір між вашими очима*\n"
     ]
    }
   ],
   "source": [
    "delay_print(\"*Ви просинаєтесь в лісі біля впавшого дерева на якому сидить незнайомець\\n О, ти нарешті прокинувся, я тебе найшов з раною на голові, ти хоть щось про себе пам'ятає,як тебе звати?\")\n",
    "name=input(\"Введіть своє ім'я\")     \n",
    "print(name)\n",
    "delay_print(\"Добре ,ранений, ти пам'ятаєш звідки ти?\")\n",
    "print(\"1.Я з України\\n2.Я з Росії\")\n",
    "answer = input(\"Введіть відповідь:\")\n",
    "answers_array.append(answer)\n",
    "match answer:\n",
    "   case \"1\": delay_print(\"Я бачу ти своя людина,ти пам'ятаєш що з тобою сталося?\")\n",
    "   case \"2\": delay_print(\"*Незнайомець мовчки і швидко дістає пістолет і робить скрізний отвір між вашими очима*\")\n",
    "\n",
    "\n"
   ]
  }
 ],
 "metadata": {
  "kernelspec": {
   "display_name": "Python 3",
   "language": "python",
   "name": "python3"
  },
  "language_info": {
   "codemirror_mode": {
    "name": "ipython",
    "version": 3
   },
   "file_extension": ".py",
   "mimetype": "text/x-python",
   "name": "python",
   "nbconvert_exporter": "python",
   "pygments_lexer": "ipython3",
   "version": "3.11.5"
  },
  "orig_nbformat": 4
 },
 "nbformat": 4,
 "nbformat_minor": 2
}
