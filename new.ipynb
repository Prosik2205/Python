{
 "cells": [
  {
   "cell_type": "code",
   "execution_count": 53,
   "metadata": {},
   "outputs": [
    {
     "name": "stdout",
     "output_type": "stream",
     "text": [
      "The Elder Scrols:Ukraine\n"
     ]
    }
   ],
   "source": [
    "answers_array = []\n",
    "quest_index = 0\n",
    "import time\n",
    "def delay_print(s):\n",
    "    for c in s:\n",
    "        print(c, end='')\n",
    "        time.sleep(0.03)\n",
    "    print('')\n",
    "print(\"The Elder Scrols:Ukraine\")\n",
    "# sex=input(\"Введіть свою стать\")\n"
   ]
  },
  {
   "cell_type": "code",
   "execution_count": 54,
   "metadata": {},
   "outputs": [
    {
     "name": "stdout",
     "output_type": "stream",
     "text": [
      "*Ви просинаєтесь в лісі біля впавшого дерева на якому сидить незнайомець\n",
      " О, ти нарешті прокинувся, я тебе найшов з раною на голові, ти хоть щось про себе пам'ятає,як тебе звати?\n",
      "2\n",
      "Добре ,ранений, ти пам'ятаєш свою расу?\n",
      "1.Хохол\n",
      "2.Кацап\n",
      "*Незнайомець мовчки і швидко дістає палку і лупить вас поміж очей, так що ви знову втратили свідомість*\n"
     ]
    }
   ],
   "source": [
    "delay_print(\"*Ви просинаєтесь в лісі біля впавшого дерева на якому сидить незнайомець\\nНезнайомець: О, ти нарешті прокинувся, я тебе найшов з раною на голові, ти хоть щось про себе пам'ятає,як тебе звати?\")\n",
    "name=input(\"Введіть своє ім'я\")     \n",
    "print(name)\n",
    "delay_print(\"Незнайомець:Добре ,ранений, ти пам'ятаєш свою расу?\")\n",
    "print(\"1.Хохол\\n2.Кацап\")\n",
    "answer = input(\"Введіть відповідь:\")\n",
    "answers_array.append(answer)\n",
    "match answer:\n",
    "   case \"1\": delay_print(\"Незнайомець:Я бачу ти своя людина,ти пам'ятаєш що з тобою сталося?\")\n",
    "\n",
    "   case \"2\": delay_print(\"*Незнайомець мовчки і швидко дістає палку і лупить вас поміж очей, так що ви знову втратили свідомість*\")\n"
   ]
  },
  {
   "cell_type": "code",
   "execution_count": 55,
   "metadata": {},
   "outputs": [
    {
     "ename": "SyntaxError",
     "evalue": "incomplete input (845608313.py, line 4)",
     "output_type": "error",
     "traceback": [
      "\u001b[1;36m  Cell \u001b[1;32mIn[55], line 4\u001b[1;36m\u001b[0m\n\u001b[1;33m    \u001b[0m\n\u001b[1;37m    ^\u001b[0m\n\u001b[1;31mSyntaxError\u001b[0m\u001b[1;31m:\u001b[0m incomplete input\n"
     ]
    }
   ],
   "source": [
    "quest_index = 1\n",
    "previous_answer = answers_array[quest_index - 1]\n",
    "match previous_answer:\n",
    "    \n"
   ]
  }
 ],
 "metadata": {
  "kernelspec": {
   "display_name": "Python 3",
   "language": "python",
   "name": "python3"
  },
  "language_info": {
   "codemirror_mode": {
    "name": "ipython",
    "version": 3
   },
   "file_extension": ".py",
   "mimetype": "text/x-python",
   "name": "python",
   "nbconvert_exporter": "python",
   "pygments_lexer": "ipython3",
   "version": "3.11.5"
  },
  "orig_nbformat": 4
 },
 "nbformat": 4,
 "nbformat_minor": 2
}
