{
 "cells": [
  {
   "cell_type": "code",
   "execution_count": 1,
   "metadata": {},
   "outputs": [
    {
     "name": "stdout",
     "output_type": "stream",
     "text": [
      "Call time: 2023-10-27 12:17:03.224890, Calling function: multiply, Arguments: (3, 3), Result: 9\n",
      "Call time: 2023-10-27 12:17:03.225980, Calling function: multiply, Arguments: (1, 5), Result: 5\n",
      "Call time: 2023-10-27 12:17:03.225980, Calling function: multiply, Arguments: (2, 8), Result: 16\n"
     ]
    }
   ],
   "source": [
    "from datetime import datetime\n",
    "\n",
    "logs_info = []\n",
    "\n",
    "def logger(func):\n",
    "  def wrapper_func(*args, **kwargs):\n",
    "    call_time = datetime.now()\n",
    "    try:\n",
    "      result = func(*args, **kwargs)\n",
    "      info = (call_time, func.__name__, args, kwargs, result)\n",
    "      print(f\"Call time: {datetime.now()}, Calling function: {func.__name__}, Arguments: {args}, Result: {result}\")\n",
    "    except Exception as error:\n",
    "      print(f\"Call time: {datetime.now()}, Calling function: {func.__name__}, Arguments: {args}, Result: {result}, Error: {error}\")\n",
    "\n",
    "    logs_info.append(info)\n",
    "\n",
    "    return result\n",
    "    \n",
    "  return wrapper_func\n",
    "\n",
    "def add_log(log):\n",
    "  with open('logs.txt', 'a') as file:\n",
    "    file.write(str(log))\n",
    "\n",
    "def clear_logs():\n",
    "  with open('logs.txt', 'w') as file:\n",
    "    file.write('')\n",
    "\n",
    "def get_logs():\n",
    "  for log in logs_info:\n",
    "    yield f\"{log}\\n\"\n",
    "\n",
    "@logger\n",
    "def multiply(a, b):\n",
    "  return a * b\n",
    "\n",
    "multiply(3, 3)\n",
    "multiply(1, 5)\n",
    "multiply(2, 8)\n",
    "\n",
    "logs = get_logs()\n",
    "\n",
    "clear_logs()\n",
    "\n",
    "add_log(next(logs))\n",
    "\n",
    "add_log(next(logs))\n"
   ]
  }
 ],
 "metadata": {
  "kernelspec": {
   "display_name": "Python 3",
   "language": "python",
   "name": "python3"
  },
  "language_info": {
   "codemirror_mode": {
    "name": "ipython",
    "version": 3
   },
   "file_extension": ".py",
   "mimetype": "text/x-python",
   "name": "python",
   "nbconvert_exporter": "python",
   "pygments_lexer": "ipython3",
   "version": "3.11.5"
  }
 },
 "nbformat": 4,
 "nbformat_minor": 2
}
