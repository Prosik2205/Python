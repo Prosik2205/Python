{
 "cells": [
  {
   "cell_type": "code",
   "execution_count": 1,
   "metadata": {},
   "outputs": [
    {
     "name": "stdout",
     "output_type": "stream",
     "text": [
      "Дані оновлені та записані в data.json\n"
     ]
    }
   ],
   "source": [
    "import requests\n",
    "import json\n",
    "import time\n",
    "\n",
    "def fetch_and_save_data(api_url, output_file):\n",
    "    while True:\n",
    "        try:\n",
    "            # Виконати HTTP-запит до API\n",
    "            response = requests.get(api_url)\n",
    "            \n",
    "            # Перевірити, чи отримано успішний статус відповіді\n",
    "            if response.status_code == 200:\n",
    "                # Зчитати дані з JSON-формату\n",
    "                data = response.json()\n",
    "\n",
    "                # Записати дані у файл\n",
    "                with open(output_file, 'w') as file:\n",
    "                    json.dump(data, file, indent=2)\n",
    "                print(f\"Дані оновлені та записані в {output_file}\")\n",
    "            else:\n",
    "                print(f\"Помилка отримання даних. Статус коду: {response.status_code}\")\n",
    "\n",
    "        except Exception as e:\n",
    "            print(f\"Виникла помилка: {str(e)}\")\n",
    "\n",
    "        time.sleep(86400)\n",
    "\n",
    "# Приклад виклику функції\n",
    "api_url = \"https://celestrak.org/NORAD/elements/gp.php?GROUP=last-30-days&FORMAT=json\"\n",
    "output_file = \"data.json\"\n",
    "fetch_and_save_data(api_url, output_file)"
   ]
  }
 ],
 "metadata": {
  "kernelspec": {
   "display_name": "Python 3",
   "language": "python",
   "name": "python3"
  },
  "language_info": {
   "codemirror_mode": {
    "name": "ipython",
    "version": 3
   },
   "file_extension": ".py",
   "mimetype": "text/x-python",
   "name": "python",
   "nbconvert_exporter": "python",
   "pygments_lexer": "ipython3",
   "version": "3.12.0"
  }
 },
 "nbformat": 4,
 "nbformat_minor": 2
}
