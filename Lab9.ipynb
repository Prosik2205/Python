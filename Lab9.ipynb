{
 "cells": [
  {
   "cell_type": "code",
   "execution_count": 1,
   "metadata": {},
   "outputs": [
    {
     "ename": "ValueError",
     "evalue": "Must specify a fill 'value' or 'method'.",
     "output_type": "error",
     "traceback": [
      "\u001b[1;31m---------------------------------------------------------------------------\u001b[0m",
      "\u001b[1;31mValueError\u001b[0m                                Traceback (most recent call last)",
      "\u001b[1;32mc:\\Users\\prosi\\Documents\\GitHub\\Python\\Lab9.ipynb Cell 1\u001b[0m line \u001b[0;36m9\n\u001b[0;32m      <a href='vscode-notebook-cell:/c%3A/Users/prosi/Documents/GitHub/Python/Lab9.ipynb#W0sZmlsZQ%3D%3D?line=6'>7</a>\u001b[0m \u001b[39m#Очистіть дані від відсутніх значень та дублікатів\u001b[39;00m\n\u001b[0;32m      <a href='vscode-notebook-cell:/c%3A/Users/prosi/Documents/GitHub/Python/Lab9.ipynb#W0sZmlsZQ%3D%3D?line=7'>8</a>\u001b[0m db1\u001b[39m.\u001b[39mdrop_duplicates()\n\u001b[1;32m----> <a href='vscode-notebook-cell:/c%3A/Users/prosi/Documents/GitHub/Python/Lab9.ipynb#W0sZmlsZQ%3D%3D?line=8'>9</a>\u001b[0m db1\u001b[39m.\u001b[39;49mfillna()\n\u001b[0;32m     <a href='vscode-notebook-cell:/c%3A/Users/prosi/Documents/GitHub/Python/Lab9.ipynb#W0sZmlsZQ%3D%3D?line=9'>10</a>\u001b[0m \u001b[39m#Розрахуйте основні статистичні показники.\u001b[39;00m\n\u001b[0;32m     <a href='vscode-notebook-cell:/c%3A/Users/prosi/Documents/GitHub/Python/Lab9.ipynb#W0sZmlsZQ%3D%3D?line=10'>11</a>\u001b[0m db1\u001b[39m.\u001b[39mdescribe()\n",
      "File \u001b[1;32mc:\\Python312\\Lib\\site-packages\\pandas\\core\\generic.py:7156\u001b[0m, in \u001b[0;36mNDFrame.fillna\u001b[1;34m(self, value, method, axis, inplace, limit, downcast)\u001b[0m\n\u001b[0;32m   7149\u001b[0m         \u001b[39mif\u001b[39;00m sys\u001b[39m.\u001b[39mgetrefcount(\u001b[39mself\u001b[39m) \u001b[39m<\u001b[39m\u001b[39m=\u001b[39m REF_COUNT:\n\u001b[0;32m   7150\u001b[0m             warnings\u001b[39m.\u001b[39mwarn(\n\u001b[0;32m   7151\u001b[0m                 _chained_assignment_method_msg,\n\u001b[0;32m   7152\u001b[0m                 ChainedAssignmentError,\n\u001b[0;32m   7153\u001b[0m                 stacklevel\u001b[39m=\u001b[39m\u001b[39m2\u001b[39m,\n\u001b[0;32m   7154\u001b[0m             )\n\u001b[1;32m-> 7156\u001b[0m value, method \u001b[39m=\u001b[39m validate_fillna_kwargs(value, method)\n\u001b[0;32m   7157\u001b[0m \u001b[39mif\u001b[39;00m method \u001b[39mis\u001b[39;00m \u001b[39mnot\u001b[39;00m \u001b[39mNone\u001b[39;00m:\n\u001b[0;32m   7158\u001b[0m     warnings\u001b[39m.\u001b[39mwarn(\n\u001b[0;32m   7159\u001b[0m         \u001b[39mf\u001b[39m\u001b[39m\"\u001b[39m\u001b[39m{\u001b[39;00m\u001b[39mtype\u001b[39m(\u001b[39mself\u001b[39m)\u001b[39m.\u001b[39m\u001b[39m__name__\u001b[39m\u001b[39m}\u001b[39;00m\u001b[39m.fillna with \u001b[39m\u001b[39m'\u001b[39m\u001b[39mmethod\u001b[39m\u001b[39m'\u001b[39m\u001b[39m is deprecated and \u001b[39m\u001b[39m\"\u001b[39m\n\u001b[0;32m   7160\u001b[0m         \u001b[39m\"\u001b[39m\u001b[39mwill raise in a future version. Use obj.ffill() or obj.bfill() \u001b[39m\u001b[39m\"\u001b[39m\n\u001b[1;32m   (...)\u001b[0m\n\u001b[0;32m   7163\u001b[0m         stacklevel\u001b[39m=\u001b[39mfind_stack_level(),\n\u001b[0;32m   7164\u001b[0m     )\n",
      "File \u001b[1;32mc:\\Python312\\Lib\\site-packages\\pandas\\util\\_validators.py:293\u001b[0m, in \u001b[0;36mvalidate_fillna_kwargs\u001b[1;34m(value, method, validate_scalar_dict_value)\u001b[0m\n\u001b[0;32m    290\u001b[0m \u001b[39mfrom\u001b[39;00m \u001b[39mpandas\u001b[39;00m\u001b[39m.\u001b[39;00m\u001b[39mcore\u001b[39;00m\u001b[39m.\u001b[39;00m\u001b[39mmissing\u001b[39;00m \u001b[39mimport\u001b[39;00m clean_fill_method\n\u001b[0;32m    292\u001b[0m \u001b[39mif\u001b[39;00m value \u001b[39mis\u001b[39;00m \u001b[39mNone\u001b[39;00m \u001b[39mand\u001b[39;00m method \u001b[39mis\u001b[39;00m \u001b[39mNone\u001b[39;00m:\n\u001b[1;32m--> 293\u001b[0m     \u001b[39mraise\u001b[39;00m \u001b[39mValueError\u001b[39;00m(\u001b[39m\"\u001b[39m\u001b[39mMust specify a fill \u001b[39m\u001b[39m'\u001b[39m\u001b[39mvalue\u001b[39m\u001b[39m'\u001b[39m\u001b[39m or \u001b[39m\u001b[39m'\u001b[39m\u001b[39mmethod\u001b[39m\u001b[39m'\u001b[39m\u001b[39m.\u001b[39m\u001b[39m\"\u001b[39m)\n\u001b[0;32m    294\u001b[0m \u001b[39mif\u001b[39;00m value \u001b[39mis\u001b[39;00m \u001b[39mNone\u001b[39;00m \u001b[39mand\u001b[39;00m method \u001b[39mis\u001b[39;00m \u001b[39mnot\u001b[39;00m \u001b[39mNone\u001b[39;00m:\n\u001b[0;32m    295\u001b[0m     method \u001b[39m=\u001b[39m clean_fill_method(method)\n",
      "\u001b[1;31mValueError\u001b[0m: Must specify a fill 'value' or 'method'."
     ]
    }
   ],
   "source": [
    "import pandas as pd\n",
    "import matplotlib.pyplot as mlp\n",
    "\n",
    "#Завантаження даних\n",
    "db1 = pd.read_csv('../Python/Files_for_lab9/russia_losses_equipment.csv')\n",
    "\n",
    "#Очистіть дані від відсутніх значень та дублікатів\n",
    "db1.drop_duplicates()\n",
    "db1.fillna(0)\n",
    "#Розрахуйте основні статистичні показники.\n",
    "db1.describe()\n",
    "#Використайте групування для аналізу підгруп у даних.\n",
    "group_db = db1.groupby('helicopter')('MRL')['APC'].mean()\n",
    "display(group_db)\n",
    "#Відсортуйте данi\n",
    "display(db1.sort_values('MRL') , ascending=True)\n",
    "#Візуалізуйте дані за допомогою matplotlib\n",
    "\n",
    "mlp.figure(figsize=(10,5))\n",
    "mlp.plot(db1['helicopter'], db1['anti-aircraft warfare'], 'r')\n",
    "mlp.xlabel('helicopter')\n",
    "mlp.ylabel('anti-aircraft warfare')\n",
    "mlp.title('Loses anti-aircraft warfare and helicopter')\n",
    "mlp.show()"
   ]
  }
 ],
 "metadata": {
  "kernelspec": {
   "display_name": "Python 3",
   "language": "python",
   "name": "python3"
  },
  "language_info": {
   "codemirror_mode": {
    "name": "ipython",
    "version": 3
   },
   "file_extension": ".py",
   "mimetype": "text/x-python",
   "name": "python",
   "nbconvert_exporter": "python",
   "pygments_lexer": "ipython3",
   "version": "3.12.0"
  }
 },
 "nbformat": 4,
 "nbformat_minor": 2
}
