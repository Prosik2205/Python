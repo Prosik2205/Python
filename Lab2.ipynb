{
 "cells": [
  {
   "cell_type": "code",
   "execution_count": 15,
   "metadata": {},
   "outputs": [
    {
     "name": "stdout",
     "output_type": "stream",
     "text": [
      "Клієнт поїв\n",
      "{'name': 'Bob', 'age': 35, 'hunger': 0.35, 'happy': 0.75, 'comfort': 0.1, 'stress': 0.7, 'money': 100}\n",
      "{'name': 'Bob', 'age': 35, 'hunger': 0.85, 'happy': 0.75, 'comfort': 0.1, 'stress': 0.7, 'money': 0}\n",
      "Клієнт тверезий\n"
     ]
    }
   ],
   "source": [
    "class Hotel: \n",
    "    def __init__(self,bank,price,name):\n",
    "        self.name = name\n",
    "        self.bank = bank\n",
    "        self.price = price\n",
    "\n",
    "class BusinessHotel(Hotel):\n",
    "    def __init__(self, bank, price, name):\n",
    "        super().__init__(bank, price, name)        \n",
    "\n",
    "class SportHotel(Hotel):\n",
    "    def __init__(self, bank, price, name):\n",
    "        super().__init__(bank, price, name)\n",
    "#######################################################\n",
    "class Service:\n",
    "    def __init__(self,price):\n",
    "     self.price = price\n",
    "\n",
    "    def restoraunt(self,client):\n",
    "         if client.money >= self.price:\n",
    "            print(\"Клієнт поїв\")\n",
    "            print(vars(client))\n",
    "            client.hunger+=0.5\n",
    "            client.money-=self.price\n",
    "            print(vars(client))\n",
    "         else:\n",
    "             print(\"Клієнт сидить бідний і голодний\")\n",
    "    def bar(self,client):\n",
    "         if client.money >= self.price:\n",
    "            print(\"Клієнт напився\")\n",
    "         else:\n",
    "             print(\"Клієнт тверезий\")\n",
    "                                 \n",
    "             \n",
    "#######################################################\n",
    "        \n",
    "class Client:\n",
    "    def __init__(self,name,age,hunger,happy,comfort,stress,money):\n",
    "        self.name = name\n",
    "        self.age = age\n",
    "        self.hunger = hunger\n",
    "        self.happy = happy\n",
    "        self.comfort = comfort\n",
    "        self.stress = stress\n",
    "        self.money = money\n",
    "\n",
    "class BisinessClient(Client):\n",
    "    def __init__(self, name, age, hunger, happy, comfort, stress, business, ponts):\n",
    "        super().__init__(name, age, hunger, happy, comfort, stress, business, ponts)\n",
    "\n",
    "class SportCliet(Client):\n",
    "    def __init__(self, name, age, hunger, happy, comfort, stress,sport):\n",
    "        super().__init__(name, age, hunger, happy, comfort, stress,sport) \n",
    "\n",
    "#######################################################\n",
    "client = Client(\"Bob\",35,0.35,0.75,0.10,0.7,100)\n",
    "service_restoraunt = Service(100)\n",
    "service_restoraunt.restoraunt(client)\n",
    "service_bar = Service(1000)\n",
    "service_bar.bar(client)\n",
    "\n",
    "\n",
    "\n",
    "\n",
    "\n",
    "\n",
    "\n",
    "\n"
   ]
  }
 ],
 "metadata": {
  "kernelspec": {
   "display_name": "Python 3",
   "language": "python",
   "name": "python3"
  },
  "language_info": {
   "codemirror_mode": {
    "name": "ipython",
    "version": 3
   },
   "file_extension": ".py",
   "mimetype": "text/x-python",
   "name": "python",
   "nbconvert_exporter": "python",
   "pygments_lexer": "ipython3",
   "version": "3.11.5"
  },
  "orig_nbformat": 4
 },
 "nbformat": 4,
 "nbformat_minor": 2
}
