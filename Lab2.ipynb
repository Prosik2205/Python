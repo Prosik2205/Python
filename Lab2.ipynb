{
 "cells": [
  {
   "cell_type": "code",
   "execution_count": 2,
   "metadata": {},
   "outputs": [
    {
     "name": "stdout",
     "output_type": "stream",
     "text": [
      "{'name': 'Chivas', 'needs': {'bar': 0.25, 'child room': 0.45}}\n",
      "{'name': 'Chivas', 'needs': {'bar': 0, 'child room': 0.2}}\n",
      "{'name': 'Chivas', 'needs': {'bar': 0, 'child room': 0}}\n"
     ]
    }
   ],
   "source": [
    "import random\n",
    "\n",
    "class Hotel:\n",
    "  def __init__(self, name, services=None):\n",
    "    self.name = name\n",
    "    self.services = services if services is not None else {}\n",
    "\n",
    "class Service(Hotel):\n",
    "  def __init__(self, name, services):\n",
    "    super().__init__(name, services)\n",
    "    self.name = name\n",
    "\n",
    "  def serve(self, client):\n",
    "    while any(client.needs.values()):\n",
    "      for need, need_value in client.needs.items():\n",
    "        if need in self.services and self.services[need] > 0:\n",
    "          if self.services[need] >= need_value:\n",
    "            client.needs[need] = 0\n",
    "          else:\n",
    "            client.needs[need] -= self.services[need]\n",
    "      client.needs = {k: round(v, 2) for k, v in client.needs.items()}\n",
    "      print(vars(client))\n",
    "\n",
    "class Bar(Service):\n",
    "  def __init__(self, name, services):\n",
    "    super().__init__(name, services)\n",
    "\n",
    "class Client:\n",
    "  def __init__(self, name):\n",
    "    self.name = name\n",
    "    self.needs = self.generate_random_needs()\n",
    "\n",
    "  def generate_random_needs(self):\n",
    "    random_needs = ['eat', 'bar', 'child room', 'massage']  \n",
    "    random_values = {need: round(random.uniform(0.1, 1.0), 1) for need in random.sample(random_needs, 2)}\n",
    "\n",
    "    return random_values\n",
    "\n",
    "client = Client(\"Chivas\")\n",
    "hotel = Hotel(\"Business Hotel\", services={\"eat\": 0.5, \"bar\": 0.35, \"child room\": 0.25, 'massage': 0.5})\n",
    "service = Service(hotel.name, hotel.services)\n",
    "service.serve(client)\n"
   ]
  }
 ],
 "metadata": {
  "kernelspec": {
   "display_name": "Python 3",
   "language": "python",
   "name": "python3"
  },
  "language_info": {
   "codemirror_mode": {
    "name": "ipython",
    "version": 3
   },
   "file_extension": ".py",
   "mimetype": "text/x-python",
   "name": "python",
   "nbconvert_exporter": "python",
   "pygments_lexer": "ipython3",
   "version": "3.12.0"
  },
  "orig_nbformat": 4
 },
 "nbformat": 4,
 "nbformat_minor": 2
}
