{
 "cells": [
  {
   "cell_type": "code",
   "execution_count": 1,
   "metadata": {},
   "outputs": [
    {
     "name": "stdout",
     "output_type": "stream",
     "text": [
      "Standard basic product: \n",
      "Product parts: PartA1\n",
      "\n",
      "Standard full featured product: \n",
      "Product parts: PartA1, PartB1, PartC1\n",
      "\n",
      "Custom product: \n",
      "Product parts: PartA1, PartB1"
     ]
    }
   ],
   "source": [
    "class Builder():\n",
    "    def book(self):\n",
    "        pass\n",
    "    \n",
    "#class Singleton():    "
   ]
  }
 ],
 "metadata": {
  "kernelspec": {
   "display_name": "Python 3",
   "language": "python",
   "name": "python3"
  },
  "language_info": {
   "codemirror_mode": {
    "name": "ipython",
    "version": 3
   },
   "file_extension": ".py",
   "mimetype": "text/x-python",
   "name": "python",
   "nbconvert_exporter": "python",
   "pygments_lexer": "ipython3",
   "version": "3.11.5"
  },
  "orig_nbformat": 4
 },
 "nbformat": 4,
 "nbformat_minor": 2
}
