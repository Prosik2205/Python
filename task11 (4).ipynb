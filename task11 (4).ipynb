{
 "cells": [
  {
   "cell_type": "markdown",
   "metadata": {},
   "source": [
    "# Аналіз частоти слів на новинних сайтах з використанням Selenium (7 балів)\n",
    "\n",
    "## Мета Лабораторної Роботи:\n",
    "Розвинути навички використання Selenium для збору даних з веб-сторінок.\n",
    "Практично застосувати Python для аналізу текстових даних і виявлення тенденцій.\n",
    "\n",
    "## Завдання Лабораторної Роботи:\n",
    "### Опис Завдання:\n",
    "Створити скрипт на Python, який використовує Selenium для аналізу частоти зустрічання слів на обраних новинних сайтах за різні місяці та роки.\n",
    "\n",
    "### Етапи Виконання:\n",
    "1. Вибір Сайтів для Аналізу: Оберіть кілька новинних сайтів (наприклад, bbc.com, cnn.com).\n",
    "2. Розробка Скрипта:\n",
    "    - Ініціалізуйте WebDriver для керування браузером.\n",
    "    - Налаштуйте скрипт для відвідування архівних розділів обраних сайтів по місяцям та рокам.\n",
    "    - Зберіть тексти новин за кожен період.\n",
    "    - Проаналізуйте тексти, визначаючи частоту кожного слова.\n",
    "3. Аналіз Даних:\n",
    "    - Порівняйте найбільш часто зустрічаючіся слова в різні місяці та роки.\n",
    "    - Визначте, які слова були популярні у певні періоди часу.\n",
    "4. Висновок Результатів:\n",
    "    - Візуалізуйте результати у вигляді графіків або таблиць.\n",
    "    - Сформулюйте висновки про динаміку популярності слів у новинній сфері.\n",
    "\n",
    "## Особливі Вказівки:\n",
    "- Враховуйте виключно зміст новинних статей, виключаючи коментарі, рекламу та неновинні матеріали.\n",
    "- Забезпечте коректну обробку тексту, включаючи нормалізацію та очищення від знаків пунктуації та спеціальних символів.\n"
   ]
  },
  {
   "cell_type": "code",
   "execution_count": 6,
   "metadata": {},
   "outputs": [
    {
     "ename": "NoSuchWindowException",
     "evalue": "Message: no such window: target window already closed\nfrom unknown error: web view not found\n  (Session info: chrome=119.0.6045.200)\nStacktrace:\n\tGetHandleVerifier [0x00007FF78C7182B2+55298]\n\t(No symbol) [0x00007FF78C685E02]\n\t(No symbol) [0x00007FF78C5405AB]\n\t(No symbol) [0x00007FF78C520038]\n\t(No symbol) [0x00007FF78C5A6BC7]\n\t(No symbol) [0x00007FF78C5BA15F]\n\t(No symbol) [0x00007FF78C5A1E83]\n\t(No symbol) [0x00007FF78C57670A]\n\t(No symbol) [0x00007FF78C577964]\n\tGetHandleVerifier [0x00007FF78CA90AAB+3694587]\n\tGetHandleVerifier [0x00007FF78CAE728E+4048862]\n\tGetHandleVerifier [0x00007FF78CADF173+4015811]\n\tGetHandleVerifier [0x00007FF78C7B47D6+695590]\n\t(No symbol) [0x00007FF78C690CE8]\n\t(No symbol) [0x00007FF78C68CF34]\n\t(No symbol) [0x00007FF78C68D062]\n\t(No symbol) [0x00007FF78C67D3A3]\n\tBaseThreadInitThunk [0x00007FFFBCAF257D+29]\n\tRtlUserThreadStart [0x00007FFFBED8AA58+40]\n",
     "output_type": "error",
     "traceback": [
      "\u001b[1;31m---------------------------------------------------------------------------\u001b[0m",
      "\u001b[1;31mNoSuchWindowException\u001b[0m                     Traceback (most recent call last)",
      "\u001b[1;32mc:\\Users\\prosi\\Documents\\GitHub\\Python\\task11 (4).ipynb Cell 2\u001b[0m line \u001b[0;36m5\n\u001b[0;32m     <a href='vscode-notebook-cell:/c%3A/Users/prosi/Documents/GitHub/Python/task11%20%284%29.ipynb#W1sZmlsZQ%3D%3D?line=50'>51</a>\u001b[0m \u001b[39mfor\u001b[39;00m year \u001b[39min\u001b[39;00m [\u001b[39m2023\u001b[39m]:\n\u001b[0;32m     <a href='vscode-notebook-cell:/c%3A/Users/prosi/Documents/GitHub/Python/task11%20%284%29.ipynb#W1sZmlsZQ%3D%3D?line=51'>52</a>\u001b[0m     \u001b[39mfor\u001b[39;00m month \u001b[39min\u001b[39;00m [\u001b[39m\"\u001b[39m\u001b[39m01\u001b[39m\u001b[39m\"\u001b[39m, \u001b[39m\"\u001b[39m\u001b[39m02\u001b[39m\u001b[39m\"\u001b[39m, \u001b[39m\"\u001b[39m\u001b[39m03\u001b[39m\u001b[39m\"\u001b[39m, \u001b[39m\"\u001b[39m\u001b[39m04\u001b[39m\u001b[39m\"\u001b[39m, \u001b[39m\"\u001b[39m\u001b[39m05\u001b[39m\u001b[39m\"\u001b[39m, \u001b[39m\"\u001b[39m\u001b[39m06\u001b[39m\u001b[39m\"\u001b[39m, \u001b[39m\"\u001b[39m\u001b[39m07\u001b[39m\u001b[39m\"\u001b[39m, \u001b[39m\"\u001b[39m\u001b[39m08\u001b[39m\u001b[39m\"\u001b[39m, \u001b[39m\"\u001b[39m\u001b[39m09\u001b[39m\u001b[39m\"\u001b[39m, \u001b[39m\"\u001b[39m\u001b[39m10\u001b[39m\u001b[39m\"\u001b[39m, \u001b[39m\"\u001b[39m\u001b[39m11\u001b[39m\u001b[39m\"\u001b[39m]:\n\u001b[1;32m---> <a href='vscode-notebook-cell:/c%3A/Users/prosi/Documents/GitHub/Python/task11%20%284%29.ipynb#W1sZmlsZQ%3D%3D?line=52'>53</a>\u001b[0m         process_page_news(format_link(\u001b[39m\"\u001b[39;49m\u001b[39m02\u001b[39;49m\u001b[39m\"\u001b[39;49m, month, year), \u001b[39mf\u001b[39;49m\u001b[39m'\u001b[39;49m\u001b[39m02-\u001b[39;49m\u001b[39m{\u001b[39;49;00mmonth\u001b[39m}\u001b[39;49;00m\u001b[39m-\u001b[39;49m\u001b[39m{\u001b[39;49;00myear\u001b[39m}\u001b[39;49;00m\u001b[39m'\u001b[39;49m)\n\u001b[0;32m     <a href='vscode-notebook-cell:/c%3A/Users/prosi/Documents/GitHub/Python/task11%20%284%29.ipynb#W1sZmlsZQ%3D%3D?line=55'>56</a>\u001b[0m \u001b[39minput\u001b[39m(\u001b[39m'\u001b[39m\u001b[39mwait\u001b[39m\u001b[39m'\u001b[39m)\n\u001b[0;32m     <a href='vscode-notebook-cell:/c%3A/Users/prosi/Documents/GitHub/Python/task11%20%284%29.ipynb#W1sZmlsZQ%3D%3D?line=57'>58</a>\u001b[0m driver\u001b[39m.\u001b[39mquit()\n",
      "\u001b[1;32mc:\\Users\\prosi\\Documents\\GitHub\\Python\\task11 (4).ipynb Cell 2\u001b[0m line \u001b[0;36m3\n\u001b[0;32m     <a href='vscode-notebook-cell:/c%3A/Users/prosi/Documents/GitHub/Python/task11%20%284%29.ipynb#W1sZmlsZQ%3D%3D?line=31'>32</a>\u001b[0m \u001b[39mif\u001b[39;00m \u001b[39m'\u001b[39m\u001b[39mepravda.com.ua\u001b[39m\u001b[39m'\u001b[39m \u001b[39min\u001b[39;00m article_link \u001b[39mor\u001b[39;00m \u001b[39m'\u001b[39m\u001b[39meurointegration.com.ua\u001b[39m\u001b[39m'\u001b[39m \u001b[39min\u001b[39;00m article_link \u001b[39mor\u001b[39;00m \u001b[39m'\u001b[39m\u001b[39mpravda.com.ua\u001b[39m\u001b[39m'\u001b[39m \u001b[39min\u001b[39;00m article_link:\n\u001b[0;32m     <a href='vscode-notebook-cell:/c%3A/Users/prosi/Documents/GitHub/Python/task11%20%284%29.ipynb#W1sZmlsZQ%3D%3D?line=32'>33</a>\u001b[0m     driver\u001b[39m.\u001b[39mget(article_link)\n\u001b[1;32m---> <a href='vscode-notebook-cell:/c%3A/Users/prosi/Documents/GitHub/Python/task11%20%284%29.ipynb#W1sZmlsZQ%3D%3D?line=33'>34</a>\u001b[0m     main_div \u001b[39m=\u001b[39m driver\u001b[39m.\u001b[39;49mfind_elements(By\u001b[39m.\u001b[39;49mCSS_SELECTOR, \u001b[39m'\u001b[39;49m\u001b[39mdiv.post__text p\u001b[39;49m\u001b[39m'\u001b[39;49m)\n\u001b[0;32m     <a href='vscode-notebook-cell:/c%3A/Users/prosi/Documents/GitHub/Python/task11%20%284%29.ipynb#W1sZmlsZQ%3D%3D?line=34'>35</a>\u001b[0m     text \u001b[39m=\u001b[39m [p\u001b[39m.\u001b[39mtext \u001b[39mfor\u001b[39;00m p \u001b[39min\u001b[39;00m main_div]\n\u001b[0;32m     <a href='vscode-notebook-cell:/c%3A/Users/prosi/Documents/GitHub/Python/task11%20%284%29.ipynb#W1sZmlsZQ%3D%3D?line=35'>36</a>\u001b[0m     update_df(text, date)\n",
      "File \u001b[1;32mc:\\Python312\\Lib\\site-packages\\selenium\\webdriver\\remote\\webdriver.py:771\u001b[0m, in \u001b[0;36mWebDriver.find_elements\u001b[1;34m(self, by, value)\u001b[0m\n\u001b[0;32m    767\u001b[0m     value \u001b[39m=\u001b[39m \u001b[39mf\u001b[39m\u001b[39m'\u001b[39m\u001b[39m[name=\u001b[39m\u001b[39m\"\u001b[39m\u001b[39m{\u001b[39;00mvalue\u001b[39m}\u001b[39;00m\u001b[39m\"\u001b[39m\u001b[39m]\u001b[39m\u001b[39m'\u001b[39m\n\u001b[0;32m    769\u001b[0m \u001b[39m# Return empty list if driver returns null\u001b[39;00m\n\u001b[0;32m    770\u001b[0m \u001b[39m# See https://github.com/SeleniumHQ/selenium/issues/4555\u001b[39;00m\n\u001b[1;32m--> 771\u001b[0m \u001b[39mreturn\u001b[39;00m \u001b[39mself\u001b[39;49m\u001b[39m.\u001b[39;49mexecute(Command\u001b[39m.\u001b[39;49mFIND_ELEMENTS, {\u001b[39m\"\u001b[39;49m\u001b[39musing\u001b[39;49m\u001b[39m\"\u001b[39;49m: by, \u001b[39m\"\u001b[39;49m\u001b[39mvalue\u001b[39;49m\u001b[39m\"\u001b[39;49m: value})[\u001b[39m\"\u001b[39m\u001b[39mvalue\u001b[39m\u001b[39m\"\u001b[39m] \u001b[39mor\u001b[39;00m []\n",
      "File \u001b[1;32mc:\\Python312\\Lib\\site-packages\\selenium\\webdriver\\remote\\webdriver.py:347\u001b[0m, in \u001b[0;36mWebDriver.execute\u001b[1;34m(self, driver_command, params)\u001b[0m\n\u001b[0;32m    345\u001b[0m response \u001b[39m=\u001b[39m \u001b[39mself\u001b[39m\u001b[39m.\u001b[39mcommand_executor\u001b[39m.\u001b[39mexecute(driver_command, params)\n\u001b[0;32m    346\u001b[0m \u001b[39mif\u001b[39;00m response:\n\u001b[1;32m--> 347\u001b[0m     \u001b[39mself\u001b[39;49m\u001b[39m.\u001b[39;49merror_handler\u001b[39m.\u001b[39;49mcheck_response(response)\n\u001b[0;32m    348\u001b[0m     response[\u001b[39m\"\u001b[39m\u001b[39mvalue\u001b[39m\u001b[39m\"\u001b[39m] \u001b[39m=\u001b[39m \u001b[39mself\u001b[39m\u001b[39m.\u001b[39m_unwrap_value(response\u001b[39m.\u001b[39mget(\u001b[39m\"\u001b[39m\u001b[39mvalue\u001b[39m\u001b[39m\"\u001b[39m, \u001b[39mNone\u001b[39;00m))\n\u001b[0;32m    349\u001b[0m     \u001b[39mreturn\u001b[39;00m response\n",
      "File \u001b[1;32mc:\\Python312\\Lib\\site-packages\\selenium\\webdriver\\remote\\errorhandler.py:229\u001b[0m, in \u001b[0;36mErrorHandler.check_response\u001b[1;34m(self, response)\u001b[0m\n\u001b[0;32m    227\u001b[0m         alert_text \u001b[39m=\u001b[39m value[\u001b[39m\"\u001b[39m\u001b[39malert\u001b[39m\u001b[39m\"\u001b[39m]\u001b[39m.\u001b[39mget(\u001b[39m\"\u001b[39m\u001b[39mtext\u001b[39m\u001b[39m\"\u001b[39m)\n\u001b[0;32m    228\u001b[0m     \u001b[39mraise\u001b[39;00m exception_class(message, screen, stacktrace, alert_text)  \u001b[39m# type: ignore[call-arg]  # mypy is not smart enough here\u001b[39;00m\n\u001b[1;32m--> 229\u001b[0m \u001b[39mraise\u001b[39;00m exception_class(message, screen, stacktrace)\n",
      "\u001b[1;31mNoSuchWindowException\u001b[0m: Message: no such window: target window already closed\nfrom unknown error: web view not found\n  (Session info: chrome=119.0.6045.200)\nStacktrace:\n\tGetHandleVerifier [0x00007FF78C7182B2+55298]\n\t(No symbol) [0x00007FF78C685E02]\n\t(No symbol) [0x00007FF78C5405AB]\n\t(No symbol) [0x00007FF78C520038]\n\t(No symbol) [0x00007FF78C5A6BC7]\n\t(No symbol) [0x00007FF78C5BA15F]\n\t(No symbol) [0x00007FF78C5A1E83]\n\t(No symbol) [0x00007FF78C57670A]\n\t(No symbol) [0x00007FF78C577964]\n\tGetHandleVerifier [0x00007FF78CA90AAB+3694587]\n\tGetHandleVerifier [0x00007FF78CAE728E+4048862]\n\tGetHandleVerifier [0x00007FF78CADF173+4015811]\n\tGetHandleVerifier [0x00007FF78C7B47D6+695590]\n\t(No symbol) [0x00007FF78C690CE8]\n\t(No symbol) [0x00007FF78C68CF34]\n\t(No symbol) [0x00007FF78C68D062]\n\t(No symbol) [0x00007FF78C67D3A3]\n\tBaseThreadInitThunk [0x00007FFFBCAF257D+29]\n\tRtlUserThreadStart [0x00007FFFBED8AA58+40]\n"
     ]
    }
   ],
   "source": []
  }
 ],
 "metadata": {
  "kernelspec": {
   "display_name": "Python 3",
   "language": "python",
   "name": "python3"
  },
  "language_info": {
   "codemirror_mode": {
    "name": "ipython",
    "version": 3
   },
   "file_extension": ".py",
   "mimetype": "text/x-python",
   "name": "python",
   "nbconvert_exporter": "python",
   "pygments_lexer": "ipython3",
   "version": "3.12.0"
  }
 },
 "nbformat": 4,
 "nbformat_minor": 2
}
