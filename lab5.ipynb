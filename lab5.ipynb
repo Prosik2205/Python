{
 "cells": [
  {
   "cell_type": "code",
   "execution_count": 21,
   "metadata": {},
   "outputs": [],
   "source": [
    "import csv\n",
    "\n",
    "class Database:\n",
    "  def __init__(self):\n",
    "    self.fieldnames = ['Brand', 'Model', 'Year', 'Color']\n",
    "    self.filename = 'db_car.csv'\n",
    "\n",
    "    with open(self.filename, 'w', newline='') as csvfile:\n",
    "      self.writer = csv.DictWriter(csvfile, fieldnames=self.fieldnames)\n",
    "      self.writer.writeheader()\n",
    "\n",
    "  def add_record(self, brand, model, year, color):\n",
    "    record = {\n",
    "      \"Brand\": brand,\n",
    "      \"Model\": model,\n",
    "      \"Year\": year,\n",
    "      \"Color\": color,\n",
    "    }\n",
    "\n",
    "    with open(self.filename, 'a', newline='') as csvfile:\n",
    "      writer = csv.DictWriter(csvfile, fieldnames=self.fieldnames)\n",
    "      writer.writerow(record)\n",
    "\n",
    "database = Database()\n",
    "database.add_record(\"Ford\", \"Focus\", \"2005\", \"Pink\")\n"
   ]
  }
 ],
 "metadata": {
  "kernelspec": {
   "display_name": "Python 3",
   "language": "python",
   "name": "python3"
  },
  "language_info": {
   "codemirror_mode": {
    "name": "ipython",
    "version": 3
   },
   "file_extension": ".py",
   "mimetype": "text/x-python",
   "name": "python",
   "nbconvert_exporter": "python",
   "pygments_lexer": "ipython3",
   "version": "3.11.5"
  }
 },
 "nbformat": 4,
 "nbformat_minor": 2
}
