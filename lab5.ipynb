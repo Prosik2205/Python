{
 "cells": [
  {
   "cell_type": "code",
   "execution_count": 8,
   "metadata": {},
   "outputs": [],
   "source": [
    "import csv\n",
    "\n",
    "class Database:\n",
    "    def __init__(self,brand,model,year,color):\n",
    "     self.brand = brand\n",
    "     self.model = model\n",
    "     self.year = year\n",
    "     self.color = color   \n",
    " \n",
    "     with open('db_car.csv','w', newline='') as cvsfile:\n",
    "      fieldnames=['Brand','Model','Year','Color']\n",
    "      writer = csv.DictWriter(cvsfile, fieldnames=fieldnames)\n",
    "      writer.writeheader()\n",
    "\n"
   ]
  }
 ],
 "metadata": {
  "kernelspec": {
   "display_name": "Python 3",
   "language": "python",
   "name": "python3"
  },
  "language_info": {
   "codemirror_mode": {
    "name": "ipython",
    "version": 3
   },
   "file_extension": ".py",
   "mimetype": "text/x-python",
   "name": "python",
   "nbconvert_exporter": "python",
   "pygments_lexer": "ipython3",
   "version": "3.11.5"
  }
 },
 "nbformat": 4,
 "nbformat_minor": 2
}
