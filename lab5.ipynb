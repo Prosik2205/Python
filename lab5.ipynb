{
 "cells": [
  {
   "cell_type": "code",
   "execution_count": 34,
   "metadata": {},
   "outputs": [
    {
     "name": "stdout",
     "output_type": "stream",
     "text": [
      "Column names are Brand, Model, Year, Color\n",
      "Ford have model Focus is year 2005 and have colorPink\n",
      "Lada have model BA3 2115 is year 1985 and have colorBlack\n",
      "You find:Ford  Focus  2005 Pink\n"
     ]
    }
   ],
   "source": [
    "import csv\n",
    "\n",
    "class Database:\n",
    "  def __init__(self):\n",
    "    self.fieldnames = ['Brand', 'Model', 'Year', 'Color']\n",
    "    self.filename = 'db_car.csv'\n",
    "\n",
    "    with open(self.filename, 'w', newline='') as csvfile:\n",
    "      self.writer = csv.DictWriter(csvfile, fieldnames=self.fieldnames)\n",
    "      self.writer.writeheader()\n",
    "\n",
    "  def add(self, brand, model, year, color):\n",
    "    record = {\n",
    "      \"Brand\": brand,\n",
    "      \"Model\": model,\n",
    "      \"Year\": year,\n",
    "      \"Color\": color,\n",
    "    }\n",
    "\n",
    "    with open(self.filename, 'a', newline='') as csvfile:\n",
    "      writer = csv.DictWriter(csvfile, fieldnames=self.fieldnames)\n",
    "      writer.writerow(record)\n",
    "  \n",
    "  def reed(self):\n",
    "    with open(self.filename,'r') as cvs_file:\n",
    "      csv_reader = csv.DictReader(cvs_file)\n",
    "      line_count = 0\n",
    "      for row in csv_reader:\n",
    "        if line_count == 0:\n",
    "           print(f'Column names are {\", \".join(row)}')\n",
    "           line_count += 1\n",
    "        print(f'{row[\"Brand\"]} have model {row[\"Model\"]} is year {row[\"Year\"]} and have color{row[\"Color\"]}')\n",
    "        line_count += 1\n",
    "  def find(self,crit):\n",
    "     with open(self.filename, 'r') as csv_file:\n",
    "      csv_reader = csv.DictReader(csv_file)\n",
    "      for row in csv_reader:\n",
    "        for fieldname in self.fieldnames:\n",
    "          if crit in row[fieldname]:\n",
    "            print(f'You find:{row[\"Brand\"]}  {row[\"Model\"]}  {row[\"Year\"]} {row[\"Color\"]}')\n",
    "\n",
    "        \n",
    "\n",
    "\n",
    "\n",
    "\n",
    "database = Database()\n",
    "database.add(\"Ford\", \"Focus\", \"2005\", \"Pink\")\n",
    "database.add(\"Lada\", \"BA3 2115\", \"1985\", \"Black\")\n",
    "database.reed()\n",
    "database.find(\"Pink\")\n"
   ]
  }
 ],
 "metadata": {
  "kernelspec": {
   "display_name": "Python 3",
   "language": "python",
   "name": "python3"
  },
  "language_info": {
   "codemirror_mode": {
    "name": "ipython",
    "version": 3
   },
   "file_extension": ".py",
   "mimetype": "text/x-python",
   "name": "python",
   "nbconvert_exporter": "python",
   "pygments_lexer": "ipython3",
   "version": "3.11.5"
  }
 },
 "nbformat": 4,
 "nbformat_minor": 2
}
